{
 "cells": [
  {
   "cell_type": "code",
   "execution_count": null,
   "id": "8a7b27bb",
   "metadata": {},
   "outputs": [],
   "source": [
    "import scqubits as scq\n",
    "import qutip as qt\n",
    "import numpy as np \n",
    "import matplotlib.pyplot as plt\n",
    "from function import Gaussian_square\n",
    "###### Basic index ######\n",
    "##################################################################################################\n",
    "#for fluxonium\n",
    "EJ, EC, EL, phi_eA, N_q, in_state = 5.0, 1.5, 0.15, 0.0, 4, 0\n",
    "fluxonium01 = scq.Fluxonium(EC=EC, EL=EL, EJ=EJ, flux=phi_eA, cutoff=150, truncated_dim=N_q)\n",
    "e_ops_list = [qt.ket2dm(qt.basis(N_q, 0)), \n",
    "              qt.ket2dm(qt.basis(N_q, 1)), \n",
    "              qt.ket2dm(qt.basis(N_q, 2)), \n",
    "              qt.ket2dm(qt.basis(N_q, 3))]\n",
    "##################################################################################################\n",
    "#for gaussian function\n",
    "flat, sig, phi_0, time_step, Delta = 4.9556, 19.1211, 0, 0.02, 0.01\n",
    "evals = fluxonium01.eigenvals(evals_count=N_q)# - fluxonium01.eigenvals(evals_count=N_q)[0]\n",
    "tlist, pulse_03 = Gaussian_square((evals[3]-evals[0]-Delta)/(2*np.pi), flat, sig, phi_0=phi_0, num_sig=2, time_step=time_step, norm=True)\n",
    "tlist, pulse_23 = Gaussian_square((evals[3]-evals[2]-Delta)/(2*np.pi), flat, sig, phi_0=phi_0, num_sig=2, time_step=time_step, norm=True)\n",
    "##################################################################################################\n",
    "# Hamiltonian 4*4 matrix\n",
    "H = qt.Qobj(np.diag(evals))\n",
    "# n_operator 4*4 matrix\n",
    "n_opr = qt.Qobj(fluxonium01.matrixelement_table('n_operator', evals_count=N_q)) \n",
    "# \n",
    "c_ops = []\n",
    "##################################################################################################\n",
    "# Hamiltonian Time evolution 4*4 matrix\n",
    "Rabi_03 = 0.02 * np.pi * 2\n",
    "Rabi_23 = Rabi_03 * 0.4199\n",
    "def amp_03_func(t, args):\n",
    "    idx = np.argmin(np.abs(tlist - t))\n",
    "    return pulse_03[idx] * Rabi_03 / abs(n_opr[0,3])\n",
    "\n",
    "def amp_23_func(t, args):\n",
    "    idx = np.argmin(np.abs(tlist - t))\n",
    "    return pulse_23[idx] * Rabi_23 / abs(n_opr[2,3])\n",
    "\n",
    "H_evo = [H, [n_opr, amp_03_func], [n_opr, amp_23_func]]\n",
    "##################################################################################################\n",
    "props = qt.propagator(H_evo, tlist)\n",
    "\n"
   ]
  },
  {
   "cell_type": "code",
   "execution_count": 11,
   "id": "c84b4660",
   "metadata": {},
   "outputs": [
    {
     "name": "stdout",
     "output_type": "stream",
     "text": [
      "Population at state 0: 0.4996\n",
      "Population at state 1: 0.0000\n",
      "Population at state 2: 0.5004\n",
      "Population at state 3: 0.0000\n"
     ]
    }
   ],
   "source": [
    "# Begin state\n",
    "psi0 = qt.fock_dm(N_q, in_state) # density matrix\n",
    "final = props[-1] * psi0 * props[-1].dag()\n",
    "for i in range(N_q):\n",
    "    P_i = qt.ket2dm(qt.basis(N_q, i))\n",
    "    pop = (P_i * final).tr().real\n",
    "    print(f\"Population at state {i}: {pop:.4f}\")"
   ]
  },
  {
   "cell_type": "code",
   "execution_count": 10,
   "id": "cee37a14",
   "metadata": {},
   "outputs": [
    {
     "data": {
      "text/plain": [
       "np.int64(1)"
      ]
     },
     "execution_count": 10,
     "metadata": {},
     "output_type": "execute_result"
    }
   ],
   "source": [
    "np.sum([prop.isunitary for prop in props])"
   ]
  }
 ],
 "metadata": {
  "kernelspec": {
   "display_name": "hank",
   "language": "python",
   "name": "python3"
  },
  "language_info": {
   "codemirror_mode": {
    "name": "ipython",
    "version": 3
   },
   "file_extension": ".py",
   "mimetype": "text/x-python",
   "name": "python",
   "nbconvert_exporter": "python",
   "pygments_lexer": "ipython3",
   "version": "3.13.7"
  }
 },
 "nbformat": 4,
 "nbformat_minor": 5
}
