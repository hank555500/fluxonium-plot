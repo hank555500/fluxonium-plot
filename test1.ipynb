{
 "cells": [
  {
   "cell_type": "code",
   "execution_count": 6,
   "id": "7c35b8cf",
   "metadata": {},
   "outputs": [],
   "source": [
    "import scqubits as sc\n",
    "import qutip as qu\n",
    "import numpy as np \n",
    "import matplotlib.pyplot as plt\n",
    "\n",
    "fluxonium = sc.Fluxonium(EJ=5, EC=1.5, EL=0.15, flux=0.0, cutoff=100)\n",
    "flux_list = np.linspace(-0.5, 0.5, 100)"
   ]
  },
  {
   "cell_type": "code",
   "execution_count": null,
   "id": "cbdce4d6",
   "metadata": {},
   "outputs": [],
   "source": [
    "fig, ax = fluxonium.plot_evals_vs_paramvals('flux', flux_list, evals_count = 8, subtract_ground = True)\n",
    "plt.show()\n",
    "fig, ax = fluxonium.plot_matelem_vs_paramvals('n_operator', 'flux', flux_list, select_elems=4)\n",
    "plt.show()\n",
    "fig, ax = fluxonium.plot_matelem_vs_paramvals('phi_operator', 'flux', flux_list, select_elems=4)\n",
    "plt.show()\n",
    "fluxonium.plot_wavefunction(esys=None, which=range(4), mode='real')\n",
    "plt.show()\n",
    "# fig, ax = fluxonium.plot_matrixelements('n_operator', flux_list, evals_count=9, subtract_ground = True)\n",
    "# plt.show()"
   ]
  },
  {
   "cell_type": "code",
   "execution_count": null,
   "id": "2757b10b",
   "metadata": {},
   "outputs": [],
   "source": [
    "data = fluxonium.get_matelements_vs_paramvals(operator = 'n_operator' ,param_name = 'flux', param_vals = flux_list, evals_count = 6)\n",
    "\n",
    "for level in range(4):\n",
    "    plt.plot(flux_list, np.diagonal(data.matrixelem_table[:, :, level, level]), label=f'Level {level}')\n",
    "\n",
    "plt.xlabel(r'$\\Phi_{\\mathrm{ext}}/\\Phi_0$')\n",
    "plt.ylabel(r'$\\langle n \\rangle$')\n",
    "plt.legend()\n",
    "plt.title('Charge Operator Expectation Values vs Flux')\n",
    "plt.show()"
   ]
  }
 ],
 "metadata": {
  "kernelspec": {
   "display_name": "hank",
   "language": "python",
   "name": "python3"
  },
  "language_info": {
   "codemirror_mode": {
    "name": "ipython",
    "version": 3
   },
   "file_extension": ".py",
   "mimetype": "text/x-python",
   "name": "python",
   "nbconvert_exporter": "python",
   "pygments_lexer": "ipython3",
   "version": "3.13.7"
  }
 },
 "nbformat": 4,
 "nbformat_minor": 5
}
